{
  "nbformat": 4,
  "nbformat_minor": 0,
  "metadata": {
    "colab": {
      "provenance": [],
      "include_colab_link": true
    },
    "kernelspec": {
      "name": "python3",
      "display_name": "Python 3"
    },
    "language_info": {
      "name": "python"
    }
  },
  "cells": [
    {
      "cell_type": "markdown",
      "metadata": {
        "id": "view-in-github",
        "colab_type": "text"
      },
      "source": [
        "<a href=\"https://colab.research.google.com/github/trinhphuson/Exercising/blob/main/Exercising.ipynb\" target=\"_parent\"><img src=\"https://colab.research.google.com/assets/colab-badge.svg\" alt=\"Open In Colab\"/></a>"
      ]
    },
    {
      "cell_type": "code",
      "execution_count": 45,
      "metadata": {
        "id": "sIL-Sz02bjNf"
      },
      "outputs": [],
      "source": [
        "try:\n",
        "  import json as j\n",
        "  import requests as r\n",
        "  import numpy as np\n",
        "  import pandas as pd\n",
        "  import matplotlib.pyplot as plt\n",
        "  import pygal as pg\n",
        "except ModuleNotFoundError:\n",
        "  !pip install requests numpy pandas matplotlib pygal"
      ]
    },
    {
      "cell_type": "code",
      "source": [
        "#Pandas\n",
        "#DataFrame\n",
        "group = ['Group 1', 'Group 2', 'Group 3']\n",
        "number_of_trees = [59, 49, 63]\n",
        "pd.DataFrame({'Groups': group, 'Trees': number_of_trees})"
      ],
      "metadata": {
        "colab": {
          "base_uri": "https://localhost:8080/",
          "height": 143
        },
        "id": "3e2tKzxAbxr3",
        "outputId": "7d77b739-0c19-4194-9106-6aaa4539ddce"
      },
      "execution_count": 2,
      "outputs": [
        {
          "output_type": "execute_result",
          "data": {
            "text/plain": [
              "    Groups  Trees\n",
              "0  Group 1     59\n",
              "1  Group 2     49\n",
              "2  Group 3     63"
            ],
            "text/html": [
              "\n",
              "  <div id=\"df-92f454ba-dd79-4765-b3c8-b0d3b705f66c\">\n",
              "    <div class=\"colab-df-container\">\n",
              "      <div>\n",
              "<style scoped>\n",
              "    .dataframe tbody tr th:only-of-type {\n",
              "        vertical-align: middle;\n",
              "    }\n",
              "\n",
              "    .dataframe tbody tr th {\n",
              "        vertical-align: top;\n",
              "    }\n",
              "\n",
              "    .dataframe thead th {\n",
              "        text-align: right;\n",
              "    }\n",
              "</style>\n",
              "<table border=\"1\" class=\"dataframe\">\n",
              "  <thead>\n",
              "    <tr style=\"text-align: right;\">\n",
              "      <th></th>\n",
              "      <th>Groups</th>\n",
              "      <th>Trees</th>\n",
              "    </tr>\n",
              "  </thead>\n",
              "  <tbody>\n",
              "    <tr>\n",
              "      <th>0</th>\n",
              "      <td>Group 1</td>\n",
              "      <td>59</td>\n",
              "    </tr>\n",
              "    <tr>\n",
              "      <th>1</th>\n",
              "      <td>Group 2</td>\n",
              "      <td>49</td>\n",
              "    </tr>\n",
              "    <tr>\n",
              "      <th>2</th>\n",
              "      <td>Group 3</td>\n",
              "      <td>63</td>\n",
              "    </tr>\n",
              "  </tbody>\n",
              "</table>\n",
              "</div>\n",
              "      <button class=\"colab-df-convert\" onclick=\"convertToInteractive('df-92f454ba-dd79-4765-b3c8-b0d3b705f66c')\"\n",
              "              title=\"Convert this dataframe to an interactive table.\"\n",
              "              style=\"display:none;\">\n",
              "        \n",
              "  <svg xmlns=\"http://www.w3.org/2000/svg\" height=\"24px\"viewBox=\"0 0 24 24\"\n",
              "       width=\"24px\">\n",
              "    <path d=\"M0 0h24v24H0V0z\" fill=\"none\"/>\n",
              "    <path d=\"M18.56 5.44l.94 2.06.94-2.06 2.06-.94-2.06-.94-.94-2.06-.94 2.06-2.06.94zm-11 1L8.5 8.5l.94-2.06 2.06-.94-2.06-.94L8.5 2.5l-.94 2.06-2.06.94zm10 10l.94 2.06.94-2.06 2.06-.94-2.06-.94-.94-2.06-.94 2.06-2.06.94z\"/><path d=\"M17.41 7.96l-1.37-1.37c-.4-.4-.92-.59-1.43-.59-.52 0-1.04.2-1.43.59L10.3 9.45l-7.72 7.72c-.78.78-.78 2.05 0 2.83L4 21.41c.39.39.9.59 1.41.59.51 0 1.02-.2 1.41-.59l7.78-7.78 2.81-2.81c.8-.78.8-2.07 0-2.86zM5.41 20L4 18.59l7.72-7.72 1.47 1.35L5.41 20z\"/>\n",
              "  </svg>\n",
              "      </button>\n",
              "      \n",
              "  <style>\n",
              "    .colab-df-container {\n",
              "      display:flex;\n",
              "      flex-wrap:wrap;\n",
              "      gap: 12px;\n",
              "    }\n",
              "\n",
              "    .colab-df-convert {\n",
              "      background-color: #E8F0FE;\n",
              "      border: none;\n",
              "      border-radius: 50%;\n",
              "      cursor: pointer;\n",
              "      display: none;\n",
              "      fill: #1967D2;\n",
              "      height: 32px;\n",
              "      padding: 0 0 0 0;\n",
              "      width: 32px;\n",
              "    }\n",
              "\n",
              "    .colab-df-convert:hover {\n",
              "      background-color: #E2EBFA;\n",
              "      box-shadow: 0px 1px 2px rgba(60, 64, 67, 0.3), 0px 1px 3px 1px rgba(60, 64, 67, 0.15);\n",
              "      fill: #174EA6;\n",
              "    }\n",
              "\n",
              "    [theme=dark] .colab-df-convert {\n",
              "      background-color: #3B4455;\n",
              "      fill: #D2E3FC;\n",
              "    }\n",
              "\n",
              "    [theme=dark] .colab-df-convert:hover {\n",
              "      background-color: #434B5C;\n",
              "      box-shadow: 0px 1px 3px 1px rgba(0, 0, 0, 0.15);\n",
              "      filter: drop-shadow(0px 1px 2px rgba(0, 0, 0, 0.3));\n",
              "      fill: #FFFFFF;\n",
              "    }\n",
              "  </style>\n",
              "\n",
              "      <script>\n",
              "        const buttonEl =\n",
              "          document.querySelector('#df-92f454ba-dd79-4765-b3c8-b0d3b705f66c button.colab-df-convert');\n",
              "        buttonEl.style.display =\n",
              "          google.colab.kernel.accessAllowed ? 'block' : 'none';\n",
              "\n",
              "        async function convertToInteractive(key) {\n",
              "          const element = document.querySelector('#df-92f454ba-dd79-4765-b3c8-b0d3b705f66c');\n",
              "          const dataTable =\n",
              "            await google.colab.kernel.invokeFunction('convertToInteractive',\n",
              "                                                     [key], {});\n",
              "          if (!dataTable) return;\n",
              "\n",
              "          const docLinkHtml = 'Like what you see? Visit the ' +\n",
              "            '<a target=\"_blank\" href=https://colab.research.google.com/notebooks/data_table.ipynb>data table notebook</a>'\n",
              "            + ' to learn more about interactive tables.';\n",
              "          element.innerHTML = '';\n",
              "          dataTable['output_type'] = 'display_data';\n",
              "          await google.colab.output.renderOutput(dataTable, element);\n",
              "          const docLink = document.createElement('div');\n",
              "          docLink.innerHTML = docLinkHtml;\n",
              "          element.appendChild(docLink);\n",
              "        }\n",
              "      </script>\n",
              "    </div>\n",
              "  </div>\n",
              "  "
            ]
          },
          "metadata": {},
          "execution_count": 2
        }
      ]
    },
    {
      "cell_type": "code",
      "source": [
        "#numpy\n",
        "#array\n",
        "a = np.array([[1, 2, 3, 4], [9, 8, 7, 6]])\n",
        "print(a[0])\n",
        "print(a[0,2])"
      ],
      "metadata": {
        "colab": {
          "base_uri": "https://localhost:8080/"
        },
        "id": "En0_eQY4fQZn",
        "outputId": "7f8d3f2e-f582-4338-ec82-fd7a2421d93c"
      },
      "execution_count": 3,
      "outputs": [
        {
          "output_type": "stream",
          "name": "stdout",
          "text": [
            "[1 2 3 4]\n",
            "3\n"
          ]
        }
      ]
    },
    {
      "cell_type": "code",
      "source": [
        "#Dictionary\n",
        "word = input('Word to search: ')\n",
        "entry = r.get('https://api.dictionaryapi.dev/api/v2/entries/en/' + word)\n",
        "entry.text\n",
        "entry.json()"
      ],
      "metadata": {
        "colab": {
          "base_uri": "https://localhost:8080/"
        },
        "id": "2OyA1sp1CjKw",
        "outputId": "5f90e1b0-8496-4d22-ebf5-32a22b5d5c3c"
      },
      "execution_count": 4,
      "outputs": [
        {
          "name": "stdout",
          "output_type": "stream",
          "text": [
            "Word to search: hello\n"
          ]
        },
        {
          "output_type": "execute_result",
          "data": {
            "text/plain": [
              "[{'word': 'hello',\n",
              "  'phonetics': [{'audio': 'https://api.dictionaryapi.dev/media/pronunciations/en/hello-au.mp3',\n",
              "    'sourceUrl': 'https://commons.wikimedia.org/w/index.php?curid=75797336',\n",
              "    'license': {'name': 'BY-SA 4.0',\n",
              "     'url': 'https://creativecommons.org/licenses/by-sa/4.0'}},\n",
              "   {'text': '/həˈləʊ/',\n",
              "    'audio': 'https://api.dictionaryapi.dev/media/pronunciations/en/hello-uk.mp3',\n",
              "    'sourceUrl': 'https://commons.wikimedia.org/w/index.php?curid=9021983',\n",
              "    'license': {'name': 'BY 3.0 US',\n",
              "     'url': 'https://creativecommons.org/licenses/by/3.0/us'}},\n",
              "   {'text': '/həˈloʊ/', 'audio': ''}],\n",
              "  'meanings': [{'partOfSpeech': 'noun',\n",
              "    'definitions': [{'definition': '\"Hello!\" or an equivalent greeting.',\n",
              "      'synonyms': [],\n",
              "      'antonyms': []}],\n",
              "    'synonyms': ['greeting'],\n",
              "    'antonyms': []},\n",
              "   {'partOfSpeech': 'verb',\n",
              "    'definitions': [{'definition': 'To greet with \"hello\".',\n",
              "      'synonyms': [],\n",
              "      'antonyms': []}],\n",
              "    'synonyms': [],\n",
              "    'antonyms': []},\n",
              "   {'partOfSpeech': 'interjection',\n",
              "    'definitions': [{'definition': 'A greeting (salutation) said when meeting someone or acknowledging someone’s arrival or presence.',\n",
              "      'synonyms': [],\n",
              "      'antonyms': [],\n",
              "      'example': 'Hello, everyone.'},\n",
              "     {'definition': 'A greeting used when answering the telephone.',\n",
              "      'synonyms': [],\n",
              "      'antonyms': [],\n",
              "      'example': 'Hello? How may I help you?'},\n",
              "     {'definition': 'A call for response if it is not clear if anyone is present or listening, or if a telephone conversation may have been disconnected.',\n",
              "      'synonyms': [],\n",
              "      'antonyms': [],\n",
              "      'example': 'Hello? Is anyone there?'},\n",
              "     {'definition': 'Used sarcastically to imply that the person addressed or referred to has done something the speaker or writer considers to be foolish.',\n",
              "      'synonyms': [],\n",
              "      'antonyms': [],\n",
              "      'example': 'You just tried to start your car with your cell phone. Hello?'},\n",
              "     {'definition': 'An expression of puzzlement or discovery.',\n",
              "      'synonyms': [],\n",
              "      'antonyms': [],\n",
              "      'example': 'Hello! What’s going on here?'}],\n",
              "    'synonyms': [],\n",
              "    'antonyms': ['bye', 'goodbye']}],\n",
              "  'license': {'name': 'CC BY-SA 3.0',\n",
              "   'url': 'https://creativecommons.org/licenses/by-sa/3.0'},\n",
              "  'sourceUrls': ['https://en.wiktionary.org/wiki/hello']}]"
            ]
          },
          "metadata": {},
          "execution_count": 4
        }
      ]
    },
    {
      "cell_type": "code",
      "source": [
        "#Json\n",
        "#Dump str to json (weather)\n",
        "str_example = {\n",
        "  \"date\": \"27/3\",\n",
        "  \"temp\": 30,\n",
        "  \"humidity\": 49\n",
        "}\n",
        "\n",
        "jsonout = j.dumps(str_example)\n",
        "\n",
        "print(jsonout)"
      ],
      "metadata": {
        "colab": {
          "base_uri": "https://localhost:8080/"
        },
        "id": "cxMIJLFQGzqx",
        "outputId": "84cb8ee2-8d43-4ec4-f3a2-8bc5a2f62e10"
      },
      "execution_count": 5,
      "outputs": [
        {
          "output_type": "stream",
          "name": "stdout",
          "text": [
            "{\"date\": \"27/3\", \"temp\": 30, \"humidity\": 49}\n"
          ]
        }
      ]
    },
    {
      "cell_type": "code",
      "source": [
        "#Plot(matplotlib)\n",
        "y = [0,25,32,38,0]\n",
        "x = [0,1,2,3,4]\n",
        "plt.plot(x, y)\n",
        "plt.ylabel('Speed')\n",
        "plt.xlabel('Time')\n",
        "plt.title('Example: Speed graph of a car')\n",
        "plt.show()"
      ],
      "metadata": {
        "id": "hP04THjSKWHY",
        "colab": {
          "base_uri": "https://localhost:8080/",
          "height": 295
        },
        "outputId": "b170922a-15ce-4c9d-e397-c7fd93129a66"
      },
      "execution_count": 16,
      "outputs": [
        {
          "output_type": "display_data",
          "data": {
            "text/plain": [
              "<Figure size 432x288 with 1 Axes>"
            ],
            "image/png": "[encoded data removed]"
          },
          "metadata": {
            "needs_background": "light"
          }
        }
      ]
    },
    {
      "cell_type": "code",
      "source": [
        "#pygal\n",
        "#bar chart\n",
        "# 1 value\n",
        "bar_chart = pg.Bar()                                            # Then create a bar graph object\n",
        "bar_chart.add('Fibonacci', [0, 1, 1, 2, 3, 5, 8, 13, 21, 34, 55])  # Add some values\n",
        "bar_chart.render_to_file('bar_chart.svg')   # Render to .svg\n",
        "\n",
        "bar_chart = pg.Bar()\n",
        "bar_chart.add('Fibonacci', [0, 1, 1, 2, 3, 5, 8, 13, 21, 34, 55])\n",
        "bar_chart.render() # Same but render to output\n",
        "# 2 value\n",
        "bar_chart = pg.Bar()\n",
        "bar_chart.add('Fibonacci', [0, 1, 1, 2, 3, 5, 8, 13, 21, 34, 55])\n",
        "bar_chart.add('Padovan', [1, 1, 1, 2, 2, 3, 4, 5, 7, 9, 12])\n",
        "bar_chart.render_to_file('bar_chart_2_value.svg')\n",
        "\n",
        "# Stacked\n",
        "bar_chart = pg.StackedBar()\n",
        "bar_chart.add('Fibonacci', [0, 1, 1, 2, 3, 5, 8, 13, 21, 34, 55])\n",
        "bar_chart.add('Padovan', [1, 1, 1, 2, 2, 3, 4, 5, 7, 9, 12])\n",
        "bar_chart.render_to_file('bar_chart_stacked.svg')\n",
        "\n",
        "# Horizontal Stacked\n",
        "bar_chart = pg.HorizontalStackedBar()\n",
        "bar_chart.add('Fibonacci', [0, 1, 1, 2, 3, 5, 8, 13, 21, 34, 55])\n",
        "bar_chart.add('Padovan', [1, 1, 1, 2, 2, 3, 4, 5, 7, 9, 12])\n",
        "bar_chart.render_to_file('bar_chart_horizontal_stacked.svg')\n",
        "\n",
        "# Now with labels\n",
        "bar_chart = pg.HorizontalStackedBar()\n",
        "bar_chart.title = \"Remarquable sequences\"\n",
        "bar_chart.x_labels = map(str, range(11))\n",
        "bar_chart.add('Fibonacci', [0, 1, 1, 2, 3, 5, 8, 13, 21, 34, 55])\n",
        "bar_chart.add('Padovan', [1, 1, 1, 2, 2, 3, 4, 5, 7, 9, 12])\n",
        "bar_chart.render_to_file('bar_chart_horizontal_stacked_with_title.svg')\n",
        "\n",
        "# Same but simplified\n",
        "bar_chart = pg.HorizontalStackedBar(\n",
        "  title=\"Remarquable sequences\", x_labels=map(str, range(11))(\n",
        "  0, 1, 1, 2, 3, 5, 8, 13, 21, 34, 55, title='Fibonacci')(\n",
        "  1, 1, 1, 2, 2, 3, 4, 5, 7, 9, 12, title='Padovan')\n",
        "\n"
      ],
      "metadata": {
        "colab": {
          "base_uri": "https://localhost:8080/",
          "height": 130
        },
        "id": "K-uwL_AQahRL",
        "outputId": "f6f27786-d24a-4a1f-ad9e-5ebeedceea6c"
      },
      "execution_count": 38,
      "outputs": [
        {
          "output_type": "error",
          "ename": "SyntaxError",
          "evalue": "ignored",
          "traceback": [
            "\u001b[0;36m  File \u001b[0;32m\"<ipython-input-38-19245a432cd6>\"\u001b[0;36m, line \u001b[0;32m44\u001b[0m\n\u001b[0;31m    line_chart = pg.Line()\u001b[0m\n\u001b[0m    ^\u001b[0m\n\u001b[0;31mSyntaxError\u001b[0m\u001b[0;31m:\u001b[0m invalid syntax\n"
          ]
        }
      ]
    },
    {
      "cell_type": "code",
      "source": [
        "# Line\n",
        "line_chart = pg.Line()\n",
        "line_chart.title = 'Browser usage evolution (in %)'\n",
        "line_chart.x_labels = map(str, range(2002, 2013))\n",
        "line_chart.add('Firefox', [None, None,    0, 16.6,   25,   31, 36.4, 45.5, 46.3, 42.8, 37.1])\n",
        "line_chart.add('Chrome',  [None, None, None, None, None, None,    0,  3.9, 10.8, 23.8, 35.3])\n",
        "line_chart.add('IE',      [85.8, 84.6, 84.7, 74.5,   66, 58.6, 54.7, 44.8, 36.2, 26.6, 20.1])\n",
        "line_chart.add('Others',  [14.2, 15.4, 15.3,  8.9,    9, 10.4,  8.9,  5.8,  6.7,  6.8,  7.5])\n",
        "line_chart.render()\n",
        "\n",
        "# Horizontal Line\n",
        "line_chart = pg.HorizontalLine()\n",
        "line_chart.title = 'Browser usage evolution (in %)'\n",
        "line_chart.x_labels = map(str, range(2002, 2013))\n",
        "line_chart.add('Firefox', [None, None,    0, 16.6,   25,   31, 36.4, 45.5, 46.3, 42.8, 37.1])\n",
        "line_chart.add('Chrome',  [None, None, None, None, None, None,    0,  3.9, 10.8, 23.8, 35.3])\n",
        "line_chart.add('IE',      [85.8, 84.6, 84.7, 74.5,   66, 58.6, 54.7, 44.8, 36.2, 26.6, 20.1])\n",
        "line_chart.add('Others',  [14.2, 15.4, 15.3,  8.9,    9, 10.4,  8.9,  5.8,  6.7,  6.8,  7.5])\n",
        "line_chart.range = [0, 100]\n",
        "line_chart.render()\n",
        "\n",
        "# Stacked\n",
        "line_chart = pg.StackedLine(fill=True)\n",
        "line_chart.title = 'Browser usage evolution (in %)'\n",
        "line_chart.x_labels = map(str, range(2002, 2013))\n",
        "line_chart.add('Firefox', [None, None, 0, 16.6,   25,   31, 36.4, 45.5, 46.3, 42.8, 37.1])\n",
        "line_chart.add('Chrome',  [None, None, None, None, None, None,    0,  3.9, 10.8, 23.8, 35.3])\n",
        "line_chart.add('IE',      [85.8, 84.6, 84.7, 74.5,   66, 58.6, 54.7, 44.8, 36.2, 26.6, 20.1])\n",
        "line_chart.add('Others',  [14.2, 15.4, 15.3,  8.9,    9, 10.4,  8.9,  5.8,  6.7,  6.8,  7.5])\n",
        "line_chart.render()\n",
        "\n",
        "# Time\n",
        "from datetime import datetime, timedelta\n",
        "date_chart = pg.Line(x_label_rotation=20)\n",
        "date_chart.x_labels = map(lambda d: d.strftime('%Y-%m-%d'), [\n",
        " datetime(2013, 1, 2),\n",
        " datetime(2013, 1, 12),\n",
        " datetime(2013, 2, 2),\n",
        " datetime(2013, 2, 22)])\n",
        "date_chart.add(\"Visits\", [300, 412, 823, 672])\n",
        "date_chart.render()\n"
      ],
      "metadata": {
        "colab": {
          "base_uri": "https://localhost:8080/"
        },
        "id": "ClcwtCe6cUGQ",
        "outputId": "c6c4b4b2-5bfb-4e28-e90c-fbd4841a26b8"
      },
      "execution_count": 41,
      "outputs": [
        {
          "output_type": "execute_result",
          "data": {
            "text/plain": [
              "b'<?xml version=\\'1.0\\' encoding=\\'utf-8\\'?>\\n<svg xmlns=\"http://www.w3.org/2000/svg\" xmlns:xlink=\"http://www.w3.org/1999/xlink\" id=\"chart-77ee758c-2e3d-4b81-81dc-381230312dc8\" class=\"pygal-chart\" viewBox=\"0 0 800 600\"><!--Generated with pygal 3.0.0 (lxml) \\xc2\\xa9Kozea 2012-2016 on 2023-01-23--><!--http://pygal.org--><!--http://github.com/Kozea/pygal--><defs><style type=\"text/css\">#chart-77ee758c-2e3d-4b81-81dc-381230312dc8{-webkit-user-select:none;-webkit-font-smoothing:antialiased;font-family:Consolas,\"Liberation Mono\",Menlo,Courier,monospace}#chart-77ee758c-2e3d-4b81-81dc-381230312dc8 .title{font-family:Consolas,\"Liberation Mono\",Menlo,Courier,monospace;font-size:16px}#chart-77ee758c-2e3d-4b81-81dc-381230312dc8 .legends .legend text{font-family:Consolas,\"Liberation Mono\",Menlo,Courier,monospace;font-size:14px}#chart-77ee758c-2e3d-4b81-81dc-381230312dc8 .axis text{font-family:Consolas,\"Liberation Mono\",Menlo,Courier,monospace;font-size:10px}#chart-77ee758c-2e3d-4b81-81dc-381230312dc8 .axis text.major{font-family:Consolas,\"Liberation Mono\",Menlo,Courier,monospace;font-size:10px}#chart-77ee758c-2e3d-4b81-81dc-381230312dc8 .text-overlay text.value{font-family:Consolas,\"Liberation Mono\",Menlo,Courier,monospace;font-size:16px}#chart-77ee758c-2e3d-4b81-81dc-381230312dc8 .text-overlay text.label{font-family:Consolas,\"Liberation Mono\",Menlo,Courier,monospace;font-size:10px}#chart-77ee758c-2e3d-4b81-81dc-381230312dc8 .tooltip{font-family:Consolas,\"Liberation Mono\",Menlo,Courier,monospace;font-size:14px}#chart-77ee758c-2e3d-4b81-81dc-381230312dc8 text.no_data{font-family:Consolas,\"Liberation Mono\",Menlo,Courier,monospace;font-size:64px}\\n#chart-77ee758c-2e3d-4b81-81dc-381230312dc8{background-color:rgba(249,249,249,1)}#chart-77ee758c-2e3d-4b81-81dc-381230312dc8 path,#chart-77ee758c-2e3d-4b81-81dc-381230312dc8 line,#chart-77ee758c-2e3d-4b81-81dc-381230312dc8 rect,#chart-77ee758c-2e3d-4b81-81dc-381230312dc8 circle{-webkit-transition:150ms;-moz-transition:150ms;transition:150ms}#chart-77ee758c-2e3d-4b81-81dc-381230312dc8 .graph &gt; .background{fill:rgba(249,249,249,1)}#chart-77ee758c-2e3d-4b81-81dc-381230312dc8 .plot &gt; .background{fill:rgba(255,255,255,1)}#chart-77ee758c-2e3d-4b81-81dc-381230312dc8 .graph{fill:rgba(0,0,0,.87)}#chart-77ee758c-2e3d-4b81-81dc-381230312dc8 text.no_data{fill:rgba(0,0,0,1)}#chart-77ee758c-2e3d-4b81-81dc-381230312dc8 .title{fill:rgba(0,0,0,1)}#chart-77ee758c-2e3d-4b81-81dc-381230312dc8 .legends .legend text{fill:rgba(0,0,0,.87)}#chart-77ee758c-2e3d-4b81-81dc-381230312dc8 .legends .legend:hover text{fill:rgba(0,0,0,1)}#chart-77ee758c-2e3d-4b81-81dc-381230312dc8 .axis .line{stroke:rgba(0,0,0,1)}#chart-77ee758c-2e3d-4b81-81dc-381230312dc8 .axis .guide.line{stroke:rgba(0,0,0,.54)}#chart-77ee758c-2e3d-4b81-81dc-381230312dc8 .axis .major.line{stroke:rgba(0,0,0,.87)}#chart-77ee758c-2e3d-4b81-81dc-381230312dc8 .axis text.major{fill:rgba(0,0,0,1)}#chart-77ee758c-2e3d-4b81-81dc-381230312dc8 .axis.y .guides:hover .guide.line,#chart-77ee758c-2e3d-4b81-81dc-381230312dc8 .line-graph .axis.x .guides:hover .guide.line,#chart-77ee758c-2e3d-4b81-81dc-381230312dc8 .stackedline-graph .axis.x .guides:hover .guide.line,#chart-77ee758c-2e3d-4b81-81dc-381230312dc8 .xy-graph .axis.x .guides:hover .guide.line{stroke:rgba(0,0,0,1)}#chart-77ee758c-2e3d-4b81-81dc-381230312dc8 .axis .guides:hover text{fill:rgba(0,0,0,1)}#chart-77ee758c-2e3d-4b81-81dc-381230312dc8 .reactive{fill-opacity:.7;stroke-opacity:.8;stroke-width:1}#chart-77ee758c-2e3d-4b81-81dc-381230312dc8 .ci{stroke:rgba(0,0,0,.87)}#chart-77ee758c-2e3d-4b81-81dc-381230312dc8 .reactive.active,#chart-77ee758c-2e3d-4b81-81dc-381230312dc8 .active .reactive{fill-opacity:.8;stroke-opacity:.9;stroke-width:4}#chart-77ee758c-2e3d-4b81-81dc-381230312dc8 .ci .reactive.active{stroke-width:1.5}#chart-77ee758c-2e3d-4b81-81dc-381230312dc8 .series text{fill:rgba(0,0,0,1)}#chart-77ee758c-2e3d-4b81-81dc-381230312dc8 .tooltip rect{fill:rgba(255,255,255,1);stroke:rgba(0,0,0,1);-webkit-transition:opacity 150ms;-moz-transition:opacity 150ms;transition:opacity 150ms}#chart-77ee758c-2e3d-4b81-81dc-381230312dc8 .tooltip .label{fill:rgba(0,0,0,.87)}#chart-77ee758c-2e3d-4b81-81dc-381230312dc8 .tooltip .label{fill:rgba(0,0,0,.87)}#chart-77ee758c-2e3d-4b81-81dc-381230312dc8 .tooltip .legend{font-size:.8em;fill:rgba(0,0,0,.54)}#chart-77ee758c-2e3d-4b81-81dc-381230312dc8 .tooltip .x_label{font-size:.6em;fill:rgba(0,0,0,1)}#chart-77ee758c-2e3d-4b81-81dc-381230312dc8 .tooltip .xlink{font-size:.5em;text-decoration:underline}#chart-77ee758c-2e3d-4b81-81dc-381230312dc8 .tooltip .value{font-size:1.5em}#chart-77ee758c-2e3d-4b81-81dc-381230312dc8 .bound{font-size:.5em}#chart-77ee758c-2e3d-4b81-81dc-381230312dc8 .max-value{font-size:.75em;fill:rgba(0,0,0,.54)}#chart-77ee758c-2e3d-4b81-81dc-381230312dc8 .map-element{fill:rgba(255,255,255,1);stroke:rgba(0,0,0,.54) !important}#chart-77ee758c-2e3d-4b81-81dc-381230312dc8 .map-element .reactive{fill-opacity:inherit;stroke-opacity:inherit}#chart-77ee758c-2e3d-4b81-81dc-381230312dc8 .color-0,#chart-77ee758c-2e3d-4b81-81dc-381230312dc8 .color-0 a:visited{stroke:#F44336;fill:#F44336}#chart-77ee758c-2e3d-4b81-81dc-381230312dc8 .text-overlay .color-0 text{fill:black}\\n#chart-77ee758c-2e3d-4b81-81dc-381230312dc8 text.no_data{text-anchor:middle}#chart-77ee758c-2e3d-4b81-81dc-381230312dc8 .guide.line{fill:none}#chart-77ee758c-2e3d-4b81-81dc-381230312dc8 .centered{text-anchor:middle}#chart-77ee758c-2e3d-4b81-81dc-381230312dc8 .title{text-anchor:middle}#chart-77ee758c-2e3d-4b81-81dc-381230312dc8 .legends .legend text{fill-opacity:1}#chart-77ee758c-2e3d-4b81-81dc-381230312dc8 .axis.x text{text-anchor:middle}#chart-77ee758c-2e3d-4b81-81dc-381230312dc8 .axis.x:not(.web) text[transform]{text-anchor:start}#chart-77ee758c-2e3d-4b81-81dc-381230312dc8 .axis.x:not(.web) text[transform].backwards{text-anchor:end}#chart-77ee758c-2e3d-4b81-81dc-381230312dc8 .axis.y text{text-anchor:end}#chart-77ee758c-2e3d-4b81-81dc-381230312dc8 .axis.y text[transform].backwards{text-anchor:start}#chart-77ee758c-2e3d-4b81-81dc-381230312dc8 .axis.y2 text{text-anchor:start}#chart-77ee758c-2e3d-4b81-81dc-381230312dc8 .axis.y2 text[transform].backwards{text-anchor:end}#chart-77ee758c-2e3d-4b81-81dc-381230312dc8 .axis .guide.line{stroke-dasharray:4,4;stroke:black}#chart-77ee758c-2e3d-4b81-81dc-381230312dc8 .axis .major.guide.line{stroke-dasharray:6,6;stroke:black}#chart-77ee758c-2e3d-4b81-81dc-381230312dc8 .horizontal .axis.y .guide.line,#chart-77ee758c-2e3d-4b81-81dc-381230312dc8 .horizontal .axis.y2 .guide.line,#chart-77ee758c-2e3d-4b81-81dc-381230312dc8 .vertical .axis.x .guide.line{opacity:0}#chart-77ee758c-2e3d-4b81-81dc-381230312dc8 .horizontal .axis.always_show .guide.line,#chart-77ee758c-2e3d-4b81-81dc-381230312dc8 .vertical .axis.always_show .guide.line{opacity:1 !important}#chart-77ee758c-2e3d-4b81-81dc-381230312dc8 .axis.y .guides:hover .guide.line,#chart-77ee758c-2e3d-4b81-81dc-381230312dc8 .axis.y2 .guides:hover .guide.line,#chart-77ee758c-2e3d-4b81-81dc-381230312dc8 .axis.x .guides:hover .guide.line{opacity:1}#chart-77ee758c-2e3d-4b81-81dc-381230312dc8 .axis .guides:hover text{opacity:1}#chart-77ee758c-2e3d-4b81-81dc-381230312dc8 .nofill{fill:none}#chart-77ee758c-2e3d-4b81-81dc-381230312dc8 .subtle-fill{fill-opacity:.2}#chart-77ee758c-2e3d-4b81-81dc-381230312dc8 .dot{stroke-width:1px;fill-opacity:1;stroke-opacity:1}#chart-77ee758c-2e3d-4b81-81dc-381230312dc8 .dot.active{stroke-width:5px}#chart-77ee758c-2e3d-4b81-81dc-381230312dc8 .dot.negative{fill:transparent}#chart-77ee758c-2e3d-4b81-81dc-381230312dc8 text,#chart-77ee758c-2e3d-4b81-81dc-381230312dc8 tspan{stroke:none !important}#chart-77ee758c-2e3d-4b81-81dc-381230312dc8 .series text.active{opacity:1}#chart-77ee758c-2e3d-4b81-81dc-381230312dc8 .tooltip rect{fill-opacity:.95;stroke-width:.5}#chart-77ee758c-2e3d-4b81-81dc-381230312dc8 .tooltip text{fill-opacity:1}#chart-77ee758c-2e3d-4b81-81dc-381230312dc8 .showable{visibility:hidden}#chart-77ee758c-2e3d-4b81-81dc-381230312dc8 .showable.shown{visibility:visible}#chart-77ee758c-2e3d-4b81-81dc-381230312dc8 .gauge-background{fill:rgba(229,229,229,1);stroke:none}#chart-77ee758c-2e3d-4b81-81dc-381230312dc8 .bg-lines{stroke:rgba(249,249,249,1);stroke-width:2px}</style><script type=\"text/javascript\">window.pygal = window.pygal || {};window.pygal.config = window.pygal.config || {};window.pygal.config[\\'77ee758c-2e3d-4b81-81dc-381230312dc8\\'] = {\"allow_interruptions\": false, \"box_mode\": \"extremes\", \"classes\": [\"pygal-chart\"], \"css\": [\"file://style.css\", \"file://graph.css\"], \"defs\": [], \"disable_xml_declaration\": false, \"dots_size\": 2.5, \"dynamic_print_values\": false, \"explicit_size\": false, \"fill\": false, \"force_uri_protocol\": \"https\", \"formatter\": null, \"half_pie\": false, \"height\": 600, \"include_x_axis\": false, \"inner_radius\": 0, \"interpolate\": null, \"interpolation_parameters\": {}, \"interpolation_precision\": 250, \"inverse_y_axis\": false, \"js\": [\"//kozea.github.io/pygal.js/2.0.x/pygal-tooltips.min.js\"], \"legend_at_bottom\": false, \"legend_at_bottom_columns\": null, \"legend_box_size\": 12, \"logarithmic\": false, \"margin\": 20, \"margin_bottom\": null, \"margin_left\": null, \"margin_right\": null, \"margin_top\": null, \"max_scale\": 16, \"min_scale\": 4, \"missing_value_fill_truncation\": \"x\", \"no_data_text\": \"No data\", \"no_prefix\": false, \"order_min\": null, \"pretty_print\": false, \"print_labels\": false, \"print_values\": false, \"print_values_position\": \"center\", \"print_zeroes\": true, \"range\": null, \"rounded_bars\": null, \"secondary_range\": null, \"show_dots\": true, \"show_legend\": true, \"show_minor_x_labels\": true, \"show_minor_y_labels\": true, \"show_only_major_dots\": false, \"show_x_guides\": false, \"show_x_labels\": true, \"show_y_guides\": true, \"show_y_labels\": true, \"spacing\": 10, \"stack_from_top\": false, \"strict\": false, \"stroke\": true, \"stroke_style\": null, \"style\": {\"background\": \"rgba(249, 249, 249, 1)\", \"ci_colors\": [], \"colors\": [\"#F44336\", \"#3F51B5\", \"#009688\", \"#FFC107\", \"#FF5722\", \"#9C27B0\", \"#03A9F4\", \"#8BC34A\", \"#FF9800\", \"#E91E63\", \"#2196F3\", \"#4CAF50\", \"#FFEB3B\", \"#673AB7\", \"#00BCD4\", \"#CDDC39\", \"#9E9E9E\", \"#607D8B\"], \"dot_opacity\": \"1\", \"font_family\": \"Consolas, \\\\\"Liberation Mono\\\\\", Menlo, Courier, monospace\", \"foreground\": \"rgba(0, 0, 0, .87)\", \"foreground_strong\": \"rgba(0, 0, 0, 1)\", \"foreground_subtle\": \"rgba(0, 0, 0, .54)\", \"guide_stroke_color\": \"black\", \"guide_stroke_dasharray\": \"4,4\", \"label_font_family\": \"Consolas, \\\\\"Liberation Mono\\\\\", Menlo, Courier, monospace\", \"label_font_size\": 10, \"legend_font_family\": \"Consolas, \\\\\"Liberation Mono\\\\\", Menlo, Courier, monospace\", \"legend_font_size\": 14, \"major_guide_stroke_color\": \"black\", \"major_guide_stroke_dasharray\": \"6,6\", \"major_label_font_family\": \"Consolas, \\\\\"Liberation Mono\\\\\", Menlo, Courier, monospace\", \"major_label_font_size\": 10, \"no_data_font_family\": \"Consolas, \\\\\"Liberation Mono\\\\\", Menlo, Courier, monospace\", \"no_data_font_size\": 64, \"opacity\": \".7\", \"opacity_hover\": \".8\", \"plot_background\": \"rgba(255, 255, 255, 1)\", \"stroke_opacity\": \".8\", \"stroke_opacity_hover\": \".9\", \"stroke_width\": \"1\", \"stroke_width_hover\": \"4\", \"title_font_family\": \"Consolas, \\\\\"Liberation Mono\\\\\", Menlo, Courier, monospace\", \"title_font_size\": 16, \"tooltip_font_family\": \"Consolas, \\\\\"Liberation Mono\\\\\", Menlo, Courier, monospace\", \"tooltip_font_size\": 14, \"transition\": \"150ms\", \"value_background\": \"rgba(229, 229, 229, 1)\", \"value_colors\": [], \"value_font_family\": \"Consolas, \\\\\"Liberation Mono\\\\\", Menlo, Courier, monospace\", \"value_font_size\": 16, \"value_label_font_family\": \"Consolas, \\\\\"Liberation Mono\\\\\", Menlo, Courier, monospace\", \"value_label_font_size\": 10}, \"title\": null, \"tooltip_border_radius\": 0, \"tooltip_fancy_mode\": true, \"truncate_label\": null, \"truncate_legend\": null, \"width\": 800, \"x_label_rotation\": 20, \"x_labels\": [\"2013-01-02\", \"2013-01-12\", \"2013-02-02\", \"2013-02-22\"], \"x_labels_major\": null, \"x_labels_major_count\": null, \"x_labels_major_every\": null, \"x_title\": null, \"xrange\": null, \"y_label_rotation\": 0, \"y_labels\": null, \"y_labels_major\": null, \"y_labels_major_count\": null, \"y_labels_major_every\": null, \"y_title\": null, \"zero\": 0, \"legends\": [\"Visits\"]}</script><script type=\"text/javascript\" xlink:href=\"https://kozea.github.io/pygal.js/2.0.x/pygal-tooltips.min.js\"/></defs><title>Pygal</title><g class=\"graph line-graph vertical\"><rect x=\"0\" y=\"0\" width=\"800\" height=\"600\" class=\"background\"/><g transform=\"translate(120, 20)\" class=\"plot\"><rect x=\"0\" y=\"0\" width=\"623.2184427528455\" height=\"529.4787914004598\" class=\"background\"/><g class=\"axis y always_show\"><path d=\"M0.000000 529.478791 h623.218443\" class=\"line\"/><g class=\"guides\"><path d=\"M0.000000 519.296507 h623.218443\" class=\"guide line\"/><text x=\"-5\" y=\"522.796506950451\" class=\"\">300</text><title>300</title></g><g class=\"guides\"><path d=\"M0.000000 421.951531 h623.218443\" class=\"guide line\"/><text x=\"-5\" y=\"425.45153132895155\" class=\"\">400</text><title>400</title></g><g class=\"guides\"><path d=\"M0.000000 324.606556 h623.218443\" class=\"major guide line\"/><text x=\"-5\" y=\"328.1065557074521\" class=\"major\">500</text><title>500</title></g><g class=\"guides\"><path d=\"M0.000000 227.261580 h623.218443\" class=\"guide line\"/><text x=\"-5\" y=\"230.7615800859527\" class=\"\">600</text><title>600</title></g><g class=\"guides\"><path d=\"M0.000000 129.916604 h623.218443\" class=\"guide line\"/><text x=\"-5\" y=\"133.41660446445326\" class=\"\">700</text><title>700</title></g><g class=\"guides\"><path d=\"M0.000000 32.571629 h623.218443\" class=\"guide line\"/><text x=\"-5\" y=\"36.07162884295377\" class=\"\">800</text><title>800</title></g></g><g class=\"axis x\"><g class=\"guides\"><path d=\"M11.984970 0.000000 v529.478791\" class=\"line\"/><text x=\"11.984970052939335\" y=\"544.4787914004598\" class=\"\" transform=\"rotate(20 11.984970 544.478791)\">2013-01-02</text></g><g class=\"guides\"><path d=\"M211.734471 0.000000 v529.478791\" class=\"guide line\"/><text x=\"211.7344709352616\" y=\"544.4787914004598\" class=\"\" transform=\"rotate(20 211.734471 544.478791)\">2013-01-12</text></g><g class=\"guides\"><path d=\"M411.483972 0.000000 v529.478791\" class=\"guide line\"/><text x=\"411.48397181758384\" y=\"544.4787914004598\" class=\"\" transform=\"rotate(20 411.483972 544.478791)\">2013-02-02</text></g><g class=\"guides\"><path d=\"M611.233473 0.000000 v529.478791\" class=\"guide line\"/><text x=\"611.2334726999061\" y=\"544.4787914004598\" class=\"\" transform=\"rotate(20 611.233473 544.478791)\">2013-02-22</text></g></g><g class=\"series serie-0 color-0\"><path d=\"M11.984970 519.296507 L211.734471 410.270134 411.483972 10.182284 611.233473 157.173198\" class=\"line reactive nofill\"/></g></g><g class=\"titles\"/><g transform=\"translate(120, 20)\" class=\"plot overlay\"><g class=\"series serie-0 color-0\"><g class=\"dots\"><circle cx=\"11.984970052939335\" cy=\"519.296506950451\" r=\"2.5\" class=\"dot reactive tooltip-trigger\"/><desc class=\"value\">300</desc><desc class=\"x top\">11.984970052939335</desc><desc class=\"y top\">519.296506950451</desc><desc class=\"x_label\">2013-01-02</desc></g><g class=\"dots\"><circle cx=\"211.7344709352616\" cy=\"410.27013425437167\" r=\"2.5\" class=\"dot reactive tooltip-trigger\"/><desc class=\"value\">412</desc><desc class=\"x top\">211.7344709352616</desc><desc class=\"y top\">410.27013425437167</desc><desc class=\"x_label\">2013-01-12</desc></g><g class=\"dots\"><circle cx=\"411.48397181758384\" cy=\"10.182284450008865\" r=\"2.5\" class=\"dot reactive tooltip-trigger\"/><desc class=\"value\">823</desc><desc class=\"x left\">411.48397181758384</desc><desc class=\"y left\">10.182284450008865</desc><desc class=\"x_label\">2013-02-02</desc></g><g class=\"dots\"><circle cx=\"611.2334726999061\" cy=\"157.17319763847308\" r=\"2.5\" class=\"dot reactive tooltip-trigger\"/><desc class=\"value\">672</desc><desc class=\"x left\">611.2334726999061</desc><desc class=\"y left\">157.17319763847308</desc><desc class=\"x_label\">2013-02-22</desc></g></g></g><g transform=\"translate(120, 20)\" class=\"plot text-overlay\"><g class=\"series serie-0 color-0\"/></g><g transform=\"translate(120, 20)\" class=\"plot tooltip-overlay\"><g transform=\"translate(0 0)\" style=\"opacity: 0\" class=\"tooltip\"><rect rx=\"0\" ry=\"0\" width=\"0\" height=\"0\" class=\"tooltip-box\"/><g class=\"text\"/></g></g><g transform=\"translate(10, 30)\" class=\"legends\"><g id=\"activate-serie-0\" class=\"legend reactive activate-serie\"><rect x=\"0.0\" y=\"1.0\" width=\"12\" height=\"12\" class=\"color-0 reactive\"/><text x=\"17.0\" y=\"11.2\">Visits</text></g></g><g transform=\"translate(753, 30)\" class=\"legends\"/></g></svg>'"
            ]
          },
          "metadata": {},
          "execution_count": 41
        }
      ]
    },
    {
      "cell_type": "code",
      "source": [
        "\n",
        "\n",
        "\n",
        "\n",
        "\n",
        "!git clone http://github.com/trinhphuson/basiclengthconverter"
      ],
      "metadata": {
        "colab": {
          "base_uri": "https://localhost:8080/"
        },
        "id": "yz1iEvr4hfMU",
        "outputId": "f7ae5fff-a2c9-431e-c80d-297ec58351c6"
      },
      "execution_count": 50,
      "outputs": [
        {
          "output_type": "stream",
          "name": "stdout",
          "text": [
            "fatal: destination path 'basiclengthconverter' already exists and is not an empty directory.\n"
          ]
        }
      ]
    },
    {
      "cell_type": "code",
      "source": [
        "# Bar\n",
        "# Basic\n",
        "bar_chart = pg.Bar()\n",
        "bar_chart.title = 'Browser usage evolution (in %)'\n",
        "bar_chart.x_labels = map(str, range(2002, 2013))\n",
        "bar_chart.add('Firefox', [None, None, 0, 16.6,   25,   31, 36.4, 45.5, 46.3, 42.8, 37.1])\n",
        "bar_chart.add('Chrome',  [None, None, None, None, None, None,    0,  3.9, 10.8, 23.8, 35.3])\n",
        "bar_chart.add('IE',      [85.8, 84.6, 84.7, 74.5,   66, 58.6, 54.7, 44.8, 36.2, 26.6, 20.1])\n",
        "bar_chart.add('Others',  [14.2, 15.4, 15.3,  8.9,    9, 10.4,  8.9,  5.8,  6.7,  6.8,  7.5])\n",
        "bar_chart.render()\n",
        "\n",
        "#Stacked\n",
        "bar_chart = pg.StackedBar()\n",
        "bar_chart.title = 'Browser usage evolution (in %)'\n",
        "bar_chart.x_labels = map(str, range(2002, 2013))\n",
        "bar_chart.add('Firefox', [None, None, 0, 16.6,   25,   31, 36.4, 45.5, 46.3, 42.8, 37.1])\n",
        "bar_chart.add('Chrome',  [None, None, None, None, None, None,    0,  3.9, 10.8, 23.8, 35.3])\n",
        "bar_chart.add('IE',      [85.8, 84.6, 84.7, 74.5,   66, 58.6, 54.7, 44.8, 36.2, 26.6, 20.1])\n",
        "bar_chart.add('Others',  [14.2, 15.4, 15.3,  8.9,    9, 10.4,  8.9,  5.8,  6.7,  6.8,  7.5])\n",
        "bar_chart.render()\n",
        "\n",
        "# Horizontal \n",
        "bar_chart = pg.HorizontalBar()\n",
        "bar_chart.title = 'Browser usage in February 2012 (in %)'\n",
        "bar_chart.add('IE', 19.5)\n",
        "bar_chart.add('Firefox', 36.6)\n",
        "bar_chart.add('Chrome', 36.3)\n",
        "bar_chart.add('Safari', 4.5)\n",
        "bar_chart.add('Opera', 2.3)\n",
        "bar_chart.render()"
      ],
      "metadata": {
        "colab": {
          "base_uri": "https://localhost:8080/"
        },
        "id": "TZoRWoSYee7C",
        "outputId": "47422a5f-2724-4b6c-b87a-0f772f47a6f6"
      },
      "execution_count": 42,
      "outputs": [
        {
          "output_type": "execute_result",
          "data": {
            "text/plain": [
              "b'<?xml version=\\'1.0\\' encoding=\\'utf-8\\'?>\\n<svg xmlns=\"http://www.w3.org/2000/svg\" xmlns:xlink=\"http://www.w3.org/1999/xlink\" id=\"chart-546723e2-68a4-4086-8496-57e64a664ce8\" class=\"pygal-chart\" viewBox=\"0 0 800 600\"><!--Generated with pygal 3.0.0 (lxml) \\xc2\\xa9Kozea 2012-2016 on 2023-01-23--><!--http://pygal.org--><!--http://github.com/Kozea/pygal--><defs><style type=\"text/css\">#chart-546723e2-68a4-4086-8496-57e64a664ce8{-webkit-user-select:none;-webkit-font-smoothing:antialiased;font-family:Consolas,\"Liberation Mono\",Menlo,Courier,monospace}#chart-546723e2-68a4-4086-8496-57e64a664ce8 .title{font-family:Consolas,\"Liberation Mono\",Menlo,Courier,monospace;font-size:16px}#chart-546723e2-68a4-4086-8496-57e64a664ce8 .legends .legend text{font-family:Consolas,\"Liberation Mono\",Menlo,Courier,monospace;font-size:14px}#chart-546723e2-68a4-4086-8496-57e64a664ce8 .axis text{font-family:Consolas,\"Liberation Mono\",Menlo,Courier,monospace;font-size:10px}#chart-546723e2-68a4-4086-8496-57e64a664ce8 .axis text.major{font-family:Consolas,\"Liberation Mono\",Menlo,Courier,monospace;font-size:10px}#chart-546723e2-68a4-4086-8496-57e64a664ce8 .text-overlay text.value{font-family:Consolas,\"Liberation Mono\",Menlo,Courier,monospace;font-size:16px}#chart-546723e2-68a4-4086-8496-57e64a664ce8 .text-overlay text.label{font-family:Consolas,\"Liberation Mono\",Menlo,Courier,monospace;font-size:10px}#chart-546723e2-68a4-4086-8496-57e64a664ce8 .tooltip{font-family:Consolas,\"Liberation Mono\",Menlo,Courier,monospace;font-size:14px}#chart-546723e2-68a4-4086-8496-57e64a664ce8 text.no_data{font-family:Consolas,\"Liberation Mono\",Menlo,Courier,monospace;font-size:64px}\\n#chart-546723e2-68a4-4086-8496-57e64a664ce8{background-color:rgba(249,249,249,1)}#chart-546723e2-68a4-4086-8496-57e64a664ce8 path,#chart-546723e2-68a4-4086-8496-57e64a664ce8 line,#chart-546723e2-68a4-4086-8496-57e64a664ce8 rect,#chart-546723e2-68a4-4086-8496-57e64a664ce8 circle{-webkit-transition:150ms;-moz-transition:150ms;transition:150ms}#chart-546723e2-68a4-4086-8496-57e64a664ce8 .graph &gt; .background{fill:rgba(249,249,249,1)}#chart-546723e2-68a4-4086-8496-57e64a664ce8 .plot &gt; .background{fill:rgba(255,255,255,1)}#chart-546723e2-68a4-4086-8496-57e64a664ce8 .graph{fill:rgba(0,0,0,.87)}#chart-546723e2-68a4-4086-8496-57e64a664ce8 text.no_data{fill:rgba(0,0,0,1)}#chart-546723e2-68a4-4086-8496-57e64a664ce8 .title{fill:rgba(0,0,0,1)}#chart-546723e2-68a4-4086-8496-57e64a664ce8 .legends .legend text{fill:rgba(0,0,0,.87)}#chart-546723e2-68a4-4086-8496-57e64a664ce8 .legends .legend:hover text{fill:rgba(0,0,0,1)}#chart-546723e2-68a4-4086-8496-57e64a664ce8 .axis .line{stroke:rgba(0,0,0,1)}#chart-546723e2-68a4-4086-8496-57e64a664ce8 .axis .guide.line{stroke:rgba(0,0,0,.54)}#chart-546723e2-68a4-4086-8496-57e64a664ce8 .axis .major.line{stroke:rgba(0,0,0,.87)}#chart-546723e2-68a4-4086-8496-57e64a664ce8 .axis text.major{fill:rgba(0,0,0,1)}#chart-546723e2-68a4-4086-8496-57e64a664ce8 .axis.y .guides:hover .guide.line,#chart-546723e2-68a4-4086-8496-57e64a664ce8 .line-graph .axis.x .guides:hover .guide.line,#chart-546723e2-68a4-4086-8496-57e64a664ce8 .stackedline-graph .axis.x .guides:hover .guide.line,#chart-546723e2-68a4-4086-8496-57e64a664ce8 .xy-graph .axis.x .guides:hover .guide.line{stroke:rgba(0,0,0,1)}#chart-546723e2-68a4-4086-8496-57e64a664ce8 .axis .guides:hover text{fill:rgba(0,0,0,1)}#chart-546723e2-68a4-4086-8496-57e64a664ce8 .reactive{fill-opacity:.7;stroke-opacity:.8;stroke-width:1}#chart-546723e2-68a4-4086-8496-57e64a664ce8 .ci{stroke:rgba(0,0,0,.87)}#chart-546723e2-68a4-4086-8496-57e64a664ce8 .reactive.active,#chart-546723e2-68a4-4086-8496-57e64a664ce8 .active .reactive{fill-opacity:.8;stroke-opacity:.9;stroke-width:4}#chart-546723e2-68a4-4086-8496-57e64a664ce8 .ci .reactive.active{stroke-width:1.5}#chart-546723e2-68a4-4086-8496-57e64a664ce8 .series text{fill:rgba(0,0,0,1)}#chart-546723e2-68a4-4086-8496-57e64a664ce8 .tooltip rect{fill:rgba(255,255,255,1);stroke:rgba(0,0,0,1);-webkit-transition:opacity 150ms;-moz-transition:opacity 150ms;transition:opacity 150ms}#chart-546723e2-68a4-4086-8496-57e64a664ce8 .tooltip .label{fill:rgba(0,0,0,.87)}#chart-546723e2-68a4-4086-8496-57e64a664ce8 .tooltip .label{fill:rgba(0,0,0,.87)}#chart-546723e2-68a4-4086-8496-57e64a664ce8 .tooltip .legend{font-size:.8em;fill:rgba(0,0,0,.54)}#chart-546723e2-68a4-4086-8496-57e64a664ce8 .tooltip .x_label{font-size:.6em;fill:rgba(0,0,0,1)}#chart-546723e2-68a4-4086-8496-57e64a664ce8 .tooltip .xlink{font-size:.5em;text-decoration:underline}#chart-546723e2-68a4-4086-8496-57e64a664ce8 .tooltip .value{font-size:1.5em}#chart-546723e2-68a4-4086-8496-57e64a664ce8 .bound{font-size:.5em}#chart-546723e2-68a4-4086-8496-57e64a664ce8 .max-value{font-size:.75em;fill:rgba(0,0,0,.54)}#chart-546723e2-68a4-4086-8496-57e64a664ce8 .map-element{fill:rgba(255,255,255,1);stroke:rgba(0,0,0,.54) !important}#chart-546723e2-68a4-4086-8496-57e64a664ce8 .map-element .reactive{fill-opacity:inherit;stroke-opacity:inherit}#chart-546723e2-68a4-4086-8496-57e64a664ce8 .color-0,#chart-546723e2-68a4-4086-8496-57e64a664ce8 .color-0 a:visited{stroke:#F44336;fill:#F44336}#chart-546723e2-68a4-4086-8496-57e64a664ce8 .color-1,#chart-546723e2-68a4-4086-8496-57e64a664ce8 .color-1 a:visited{stroke:#3F51B5;fill:#3F51B5}#chart-546723e2-68a4-4086-8496-57e64a664ce8 .color-2,#chart-546723e2-68a4-4086-8496-57e64a664ce8 .color-2 a:visited{stroke:#009688;fill:#009688}#chart-546723e2-68a4-4086-8496-57e64a664ce8 .color-3,#chart-546723e2-68a4-4086-8496-57e64a664ce8 .color-3 a:visited{stroke:#FFC107;fill:#FFC107}#chart-546723e2-68a4-4086-8496-57e64a664ce8 .color-4,#chart-546723e2-68a4-4086-8496-57e64a664ce8 .color-4 a:visited{stroke:#FF5722;fill:#FF5722}#chart-546723e2-68a4-4086-8496-57e64a664ce8 .text-overlay .color-0 text{fill:black}#chart-546723e2-68a4-4086-8496-57e64a664ce8 .text-overlay .color-1 text{fill:black}#chart-546723e2-68a4-4086-8496-57e64a664ce8 .text-overlay .color-2 text{fill:black}#chart-546723e2-68a4-4086-8496-57e64a664ce8 .text-overlay .color-3 text{fill:black}#chart-546723e2-68a4-4086-8496-57e64a664ce8 .text-overlay .color-4 text{fill:black}\\n#chart-546723e2-68a4-4086-8496-57e64a664ce8 text.no_data{text-anchor:middle}#chart-546723e2-68a4-4086-8496-57e64a664ce8 .guide.line{fill:none}#chart-546723e2-68a4-4086-8496-57e64a664ce8 .centered{text-anchor:middle}#chart-546723e2-68a4-4086-8496-57e64a664ce8 .title{text-anchor:middle}#chart-546723e2-68a4-4086-8496-57e64a664ce8 .legends .legend text{fill-opacity:1}#chart-546723e2-68a4-4086-8496-57e64a664ce8 .axis.x text{text-anchor:middle}#chart-546723e2-68a4-4086-8496-57e64a664ce8 .axis.x:not(.web) text[transform]{text-anchor:start}#chart-546723e2-68a4-4086-8496-57e64a664ce8 .axis.x:not(.web) text[transform].backwards{text-anchor:end}#chart-546723e2-68a4-4086-8496-57e64a664ce8 .axis.y text{text-anchor:end}#chart-546723e2-68a4-4086-8496-57e64a664ce8 .axis.y text[transform].backwards{text-anchor:start}#chart-546723e2-68a4-4086-8496-57e64a664ce8 .axis.y2 text{text-anchor:start}#chart-546723e2-68a4-4086-8496-57e64a664ce8 .axis.y2 text[transform].backwards{text-anchor:end}#chart-546723e2-68a4-4086-8496-57e64a664ce8 .axis .guide.line{stroke-dasharray:4,4;stroke:black}#chart-546723e2-68a4-4086-8496-57e64a664ce8 .axis .major.guide.line{stroke-dasharray:6,6;stroke:black}#chart-546723e2-68a4-4086-8496-57e64a664ce8 .horizontal .axis.y .guide.line,#chart-546723e2-68a4-4086-8496-57e64a664ce8 .horizontal .axis.y2 .guide.line,#chart-546723e2-68a4-4086-8496-57e64a664ce8 .vertical .axis.x .guide.line{opacity:0}#chart-546723e2-68a4-4086-8496-57e64a664ce8 .horizontal .axis.always_show .guide.line,#chart-546723e2-68a4-4086-8496-57e64a664ce8 .vertical .axis.always_show .guide.line{opacity:1 !important}#chart-546723e2-68a4-4086-8496-57e64a664ce8 .axis.y .guides:hover .guide.line,#chart-546723e2-68a4-4086-8496-57e64a664ce8 .axis.y2 .guides:hover .guide.line,#chart-546723e2-68a4-4086-8496-57e64a664ce8 .axis.x .guides:hover .guide.line{opacity:1}#chart-546723e2-68a4-4086-8496-57e64a664ce8 .axis .guides:hover text{opacity:1}#chart-546723e2-68a4-4086-8496-57e64a664ce8 .nofill{fill:none}#chart-546723e2-68a4-4086-8496-57e64a664ce8 .subtle-fill{fill-opacity:.2}#chart-546723e2-68a4-4086-8496-57e64a664ce8 .dot{stroke-width:1px;fill-opacity:1;stroke-opacity:1}#chart-546723e2-68a4-4086-8496-57e64a664ce8 .dot.active{stroke-width:5px}#chart-546723e2-68a4-4086-8496-57e64a664ce8 .dot.negative{fill:transparent}#chart-546723e2-68a4-4086-8496-57e64a664ce8 text,#chart-546723e2-68a4-4086-8496-57e64a664ce8 tspan{stroke:none !important}#chart-546723e2-68a4-4086-8496-57e64a664ce8 .series text.active{opacity:1}#chart-546723e2-68a4-4086-8496-57e64a664ce8 .tooltip rect{fill-opacity:.95;stroke-width:.5}#chart-546723e2-68a4-4086-8496-57e64a664ce8 .tooltip text{fill-opacity:1}#chart-546723e2-68a4-4086-8496-57e64a664ce8 .showable{visibility:hidden}#chart-546723e2-68a4-4086-8496-57e64a664ce8 .showable.shown{visibility:visible}#chart-546723e2-68a4-4086-8496-57e64a664ce8 .gauge-background{fill:rgba(229,229,229,1);stroke:none}#chart-546723e2-68a4-4086-8496-57e64a664ce8 .bg-lines{stroke:rgba(249,249,249,1);stroke-width:2px}</style><script type=\"text/javascript\">window.pygal = window.pygal || {};window.pygal.config = window.pygal.config || {};window.pygal.config[\\'546723e2-68a4-4086-8496-57e64a664ce8\\'] = {\"allow_interruptions\": false, \"box_mode\": \"extremes\", \"classes\": [\"pygal-chart\"], \"css\": [\"file://style.css\", \"file://graph.css\"], \"defs\": [], \"disable_xml_declaration\": false, \"dots_size\": 2.5, \"dynamic_print_values\": false, \"explicit_size\": false, \"fill\": false, \"force_uri_protocol\": \"https\", \"formatter\": null, \"half_pie\": false, \"height\": 600, \"include_x_axis\": false, \"inner_radius\": 0, \"interpolate\": null, \"interpolation_parameters\": {}, \"interpolation_precision\": 250, \"inverse_y_axis\": false, \"js\": [\"//kozea.github.io/pygal.js/2.0.x/pygal-tooltips.min.js\"], \"legend_at_bottom\": false, \"legend_at_bottom_columns\": null, \"legend_box_size\": 12, \"logarithmic\": false, \"margin\": 20, \"margin_bottom\": null, \"margin_left\": null, \"margin_right\": null, \"margin_top\": null, \"max_scale\": 16, \"min_scale\": 4, \"missing_value_fill_truncation\": \"x\", \"no_data_text\": \"No data\", \"no_prefix\": false, \"order_min\": null, \"pretty_print\": false, \"print_labels\": false, \"print_values\": false, \"print_values_position\": \"center\", \"print_zeroes\": true, \"range\": null, \"rounded_bars\": null, \"secondary_range\": null, \"show_dots\": true, \"show_legend\": true, \"show_minor_x_labels\": true, \"show_minor_y_labels\": true, \"show_only_major_dots\": false, \"show_x_guides\": true, \"show_x_labels\": true, \"show_y_guides\": false, \"show_y_labels\": true, \"spacing\": 10, \"stack_from_top\": false, \"strict\": false, \"stroke\": true, \"stroke_style\": null, \"style\": {\"background\": \"rgba(249, 249, 249, 1)\", \"ci_colors\": [], \"colors\": [\"#F44336\", \"#3F51B5\", \"#009688\", \"#FFC107\", \"#FF5722\", \"#9C27B0\", \"#03A9F4\", \"#8BC34A\", \"#FF9800\", \"#E91E63\", \"#2196F3\", \"#4CAF50\", \"#FFEB3B\", \"#673AB7\", \"#00BCD4\", \"#CDDC39\", \"#9E9E9E\", \"#607D8B\"], \"dot_opacity\": \"1\", \"font_family\": \"Consolas, \\\\\"Liberation Mono\\\\\", Menlo, Courier, monospace\", \"foreground\": \"rgba(0, 0, 0, .87)\", \"foreground_strong\": \"rgba(0, 0, 0, 1)\", \"foreground_subtle\": \"rgba(0, 0, 0, .54)\", \"guide_stroke_color\": \"black\", \"guide_stroke_dasharray\": \"4,4\", \"label_font_family\": \"Consolas, \\\\\"Liberation Mono\\\\\", Menlo, Courier, monospace\", \"label_font_size\": 10, \"legend_font_family\": \"Consolas, \\\\\"Liberation Mono\\\\\", Menlo, Courier, monospace\", \"legend_font_size\": 14, \"major_guide_stroke_color\": \"black\", \"major_guide_stroke_dasharray\": \"6,6\", \"major_label_font_family\": \"Consolas, \\\\\"Liberation Mono\\\\\", Menlo, Courier, monospace\", \"major_label_font_size\": 10, \"no_data_font_family\": \"Consolas, \\\\\"Liberation Mono\\\\\", Menlo, Courier, monospace\", \"no_data_font_size\": 64, \"opacity\": \".7\", \"opacity_hover\": \".8\", \"plot_background\": \"rgba(255, 255, 255, 1)\", \"stroke_opacity\": \".8\", \"stroke_opacity_hover\": \".9\", \"stroke_width\": \"1\", \"stroke_width_hover\": \"4\", \"title_font_family\": \"Consolas, \\\\\"Liberation Mono\\\\\", Menlo, Courier, monospace\", \"title_font_size\": 16, \"tooltip_font_family\": \"Consolas, \\\\\"Liberation Mono\\\\\", Menlo, Courier, monospace\", \"tooltip_font_size\": 14, \"transition\": \"150ms\", \"value_background\": \"rgba(229, 229, 229, 1)\", \"value_colors\": [], \"value_font_family\": \"Consolas, \\\\\"Liberation Mono\\\\\", Menlo, Courier, monospace\", \"value_font_size\": 16, \"value_label_font_family\": \"Consolas, \\\\\"Liberation Mono\\\\\", Menlo, Courier, monospace\", \"value_label_font_size\": 10}, \"title\": \"Browser usage in February 2012 (in %)\", \"tooltip_border_radius\": 0, \"tooltip_fancy_mode\": true, \"truncate_label\": null, \"truncate_legend\": null, \"width\": 800, \"x_label_rotation\": 0, \"x_labels\": null, \"x_labels_major\": null, \"x_labels_major_count\": null, \"x_labels_major_every\": null, \"x_title\": null, \"xrange\": null, \"y_label_rotation\": 0, \"y_labels\": null, \"y_labels_major\": null, \"y_labels_major_count\": null, \"y_labels_major_every\": null, \"y_title\": null, \"zero\": 0, \"legends\": [\"IE\", \"Firefox\", \"Chrome\", \"Safari\", \"Opera\"]}</script><script type=\"text/javascript\" xlink:href=\"https://kozea.github.io/pygal.js/2.0.x/pygal-tooltips.min.js\"/></defs><title>Browser usage in February 2012 (in %)</title><g class=\"graph horizontalbar-graph horizontal\"><rect x=\"0\" y=\"0\" width=\"800\" height=\"600\" class=\"background\"/><g transform=\"translate(100, 46)\" class=\"plot\"><rect x=\"0\" y=\"0\" width=\"679.2\" height=\"514\" class=\"background\"/><g class=\"axis x always_show\"><g class=\"guides\"><path d=\"M13.061538 0.000000 v514.000000\" class=\"axis major line\"/><text x=\"13.061538461538465\" y=\"529.0\" class=\"major\">0</text></g><g class=\"guides\"><path d=\"M84.436066 0.000000 v514.000000\" class=\"guide line\"/><text x=\"84.4360655737705\" y=\"529.0\" class=\"\">4</text></g><g class=\"guides\"><path d=\"M155.810593 0.000000 v514.000000\" class=\"guide line\"/><text x=\"155.81059268600254\" y=\"529.0\" class=\"\">8</text></g><g class=\"guides\"><path d=\"M227.185120 0.000000 v514.000000\" class=\"guide line\"/><text x=\"227.18511979823455\" y=\"529.0\" class=\"\">12</text></g><g class=\"guides\"><path d=\"M298.559647 0.000000 v514.000000\" class=\"guide line\"/><text x=\"298.5596469104666\" y=\"529.0\" class=\"\">16</text></g><g class=\"guides\"><path d=\"M369.934174 0.000000 v514.000000\" class=\"major guide line\"/><text x=\"369.9341740226986\" y=\"529.0\" class=\"major\">20</text></g><g class=\"guides\"><path d=\"M441.308701 0.000000 v514.000000\" class=\"guide line\"/><text x=\"441.30870113493063\" y=\"529.0\" class=\"\">24</text></g><g class=\"guides\"><path d=\"M512.683228 0.000000 v514.000000\" class=\"guide line\"/><text x=\"512.6832282471627\" y=\"529.0\" class=\"\">28</text></g><g class=\"guides\"><path d=\"M584.057755 0.000000 v514.000000\" class=\"guide line\"/><text x=\"584.0577553593947\" y=\"529.0\" class=\"\">32</text></g><g class=\"guides\"><path d=\"M655.432282 0.000000 v514.000000\" class=\"guide line\"/><text x=\"655.4322824716268\" y=\"529.0\" class=\"\">36</text></g></g><g class=\"series serie-4 color-4\"><g class=\"bars\"><g class=\"bar\"><rect x=\"13.061538461538461\" y=\"392.6960000000001\" rx=\"0\" ry=\"0\" width=\"41.040353089533426\" height=\"76.54646153846153\" class=\"rect reactive tooltip-trigger\"/><desc class=\"value\">2.3</desc><desc class=\"x centered\">33.581715006305174</desc><desc class=\"y centered\">430.9692307692309</desc></g></g></g><g class=\"series serie-3 color-3\"><g class=\"bars\"><g class=\"bar\"><rect x=\"13.061538461538461\" y=\"305.7113846153847\" rx=\"0\" ry=\"0\" width=\"80.29634300126105\" height=\"76.54646153846153\" class=\"rect reactive tooltip-trigger\"/><desc class=\"value\">4.5</desc><desc class=\"x centered\">53.209709962168986</desc><desc class=\"y centered\">343.9846153846155</desc></g></g></g><g class=\"series serie-2 color-2\"><g class=\"bars\"><g class=\"bar\"><rect x=\"13.061538461538476\" y=\"218.72676923076932\" rx=\"0\" ry=\"0\" width=\"647.7238335435056\" height=\"76.54646153846153\" class=\"rect reactive tooltip-trigger\"/><desc class=\"value\">36.3</desc><desc class=\"x centered\">336.9234552332913</desc><desc class=\"y centered\">257.0000000000001</desc></g></g></g><g class=\"series serie-1 color-1\"><g class=\"bars\"><g class=\"bar\"><rect x=\"13.061538461538476\" y=\"131.7421538461539\" rx=\"0\" ry=\"0\" width=\"653.0769230769231\" height=\"76.54646153846153\" class=\"rect reactive tooltip-trigger\"/><desc class=\"value\">36.6</desc><desc class=\"x centered\">339.6</desc><desc class=\"y centered\">170.01538461538468</desc></g></g></g><g class=\"series serie-0 color-0\"><g class=\"bars\"><g class=\"bar\"><rect x=\"13.061538461538476\" y=\"44.75753846153853\" rx=\"0\" ry=\"0\" width=\"347.95081967213116\" height=\"76.54646153846153\" class=\"rect reactive tooltip-trigger\"/><desc class=\"value\">19.5</desc><desc class=\"x centered\">187.03694829760406</desc><desc class=\"y centered\">83.0307692307693</desc></g></g></g></g><g class=\"titles\"><text x=\"400.0\" y=\"26\" class=\"title plot_title\">Browser usage in February 2012 (in %)</text></g><g transform=\"translate(100, 46)\" class=\"plot overlay\"><g class=\"series serie-4 color-4\"/><g class=\"series serie-3 color-3\"/><g class=\"series serie-2 color-2\"/><g class=\"series serie-1 color-1\"/><g class=\"series serie-0 color-0\"/></g><g transform=\"translate(100, 46)\" class=\"plot text-overlay\"><g class=\"series serie-4 color-4\"/><g class=\"series serie-3 color-3\"/><g class=\"series serie-2 color-2\"/><g class=\"series serie-1 color-1\"/><g class=\"series serie-0 color-0\"/></g><g transform=\"translate(100, 46)\" class=\"plot tooltip-overlay\"><g transform=\"translate(0 0)\" style=\"opacity: 0\" class=\"tooltip\"><rect rx=\"0\" ry=\"0\" width=\"0\" height=\"0\" class=\"tooltip-box\"/><g class=\"text\"/></g></g><g transform=\"translate(10, 56)\" class=\"legends\"><g id=\"activate-serie-0\" class=\"legend reactive activate-serie\"><rect x=\"0.0\" y=\"1.0\" width=\"12\" height=\"12\" class=\"color-0 reactive\"/><text x=\"17.0\" y=\"11.2\">IE</text></g><g id=\"activate-serie-1\" class=\"legend reactive activate-serie\"><rect x=\"0.0\" y=\"22.0\" width=\"12\" height=\"12\" class=\"color-1 reactive\"/><text x=\"17.0\" y=\"32.2\">Firefox</text></g><g id=\"activate-serie-2\" class=\"legend reactive activate-serie\"><rect x=\"0.0\" y=\"43.0\" width=\"12\" height=\"12\" class=\"color-2 reactive\"/><text x=\"17.0\" y=\"53.2\">Chrome</text></g><g id=\"activate-serie-3\" class=\"legend reactive activate-serie\"><rect x=\"0.0\" y=\"64.0\" width=\"12\" height=\"12\" class=\"color-3 reactive\"/><text x=\"17.0\" y=\"74.2\">Safari</text></g><g id=\"activate-serie-4\" class=\"legend reactive activate-serie\"><rect x=\"0.0\" y=\"85.0\" width=\"12\" height=\"12\" class=\"color-4 reactive\"/><text x=\"17.0\" y=\"95.2\">Opera</text></g></g><g transform=\"translate(790, 56)\" class=\"legends\"/></g></svg>'"
            ]
          },
          "metadata": {},
          "execution_count": 42
        }
      ]
    }
  ]
}